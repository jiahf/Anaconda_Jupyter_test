{
 "cells": [
  {
   "cell_type": "code",
   "execution_count": 1,
   "metadata": {},
   "outputs": [],
   "source": [
    "import requests"
   ]
  },
  {
   "cell_type": "code",
   "execution_count": 23,
   "metadata": {
    "collapsed": true
   },
   "outputs": [
    {
     "name": "stderr",
     "output_type": "stream",
     "text": [
      "C:\\P1\\Anaconda3\\lib\\site-packages\\urllib3\\connectionpool.py:847: InsecureRequestWarning: Unverified HTTPS request is being made. Adding certificate verification is strongly advised. See: https://urllib3.readthedocs.io/en/latest/advanced-usage.html#ssl-warnings\n",
      "  InsecureRequestWarning)\n",
      "C:\\P1\\Anaconda3\\lib\\site-packages\\urllib3\\connectionpool.py:847: InsecureRequestWarning: Unverified HTTPS request is being made. Adding certificate verification is strongly advised. See: https://urllib3.readthedocs.io/en/latest/advanced-usage.html#ssl-warnings\n",
      "  InsecureRequestWarning)\n",
      "C:\\P1\\Anaconda3\\lib\\site-packages\\urllib3\\connectionpool.py:847: InsecureRequestWarning: Unverified HTTPS request is being made. Adding certificate verification is strongly advised. See: https://urllib3.readthedocs.io/en/latest/advanced-usage.html#ssl-warnings\n",
      "  InsecureRequestWarning)\n"
     ]
    }
   ],
   "source": [
    "rs = requests.session()\n",
    "payload = {\n",
    "'from': '/bbs/gossiping/index.html',\n",
    "'yes': 'yes'\n",
    "}\n",
    "res = rs.post(\"https://www.ptt.cc/ask/over18\", data=payload, verify=False)\n",
    "res = rs.get(\"https://www.ptt.cc/bbs/gossiping/index.html\", verify=False)\n"
   ]
  },
  {
   "cell_type": "code",
   "execution_count": 27,
   "metadata": {},
   "outputs": [],
   "source": [
    "from bs4 import BeautifulSoup\n",
    "soup = BeautifulSoup(res.text)"
   ]
  },
  {
   "cell_type": "code",
   "execution_count": 37,
   "metadata": {},
   "outputs": [
    {
     "name": "stdout",
     "output_type": "stream",
     "text": [
      "12/17 humbler \n",
      "[問卦] 太宰治的自殺哲學為何被後世推崇？\n",
      "\n",
      "12/17 abcdeffg \n",
      "Re: [新聞] 首度上街輔選！呱吉陪吳怡農市場掃街　和\n",
      "\n",
      "12/17 WeiYinSanity \n",
      "Re: [問卦] 怎麼戒酒\n",
      "\n",
      "12/17 - \n",
      "\t\t\t\n",
      "\t\t\t\t(本文已被刪除) [amos6064]\n",
      "\t\t\t\n",
      "\t\t\t\n",
      "12/17 andy02 \n",
      "Re: [問卦] 為何反紅媒法沒過？\n",
      "\n",
      "12/17 sdbb \n",
      "[問卦] 為什麼金門大學的建築系放在文組？\n",
      "\n",
      "12/17 aitt \n",
      "[問卦] 如果台灣的買房難度跟香港一樣會如何?\n",
      "\n",
      "12/17 judoyang \n",
      "Re: [新聞] 韓國瑜怨愛情摩天輪被卡　柯文哲：被卡正\n",
      "\n",
      "12/17 kiyoe \n",
      "[新聞] 影／業務載客試車飆速不成 兩車撞毀三人送醫\n",
      "\n",
      "12/17 crocus \n",
      "[新聞] 日本生育率創百年新低　專家預言：日本人\n",
      "\n",
      "12/17 lin793156 \n",
      "[新聞] 旅外學者王展返回中國被捕 疑鼓吹滿獨被\n",
      "\n",
      "12/17 lescholar \n",
      "[新聞] 港終院裁決 兩名泛民議員議席不保\n",
      "\n",
      "12/17 emperor \n",
      "[新聞] 直擊偶像被工作人員拉頭髮 粉絲曝5秒片譙\n",
      "\n",
      "12/17 mystarrain \n",
      "[問卦] 阿桑在外都自以為在家，不管其他人的啊\n",
      "\n",
      "12/17 Aotearoa \n",
      "[新聞] 南非國家公園內兩名盜獵犀牛者被射殺死亡\n",
      "\n",
      "12/17 HTC92 \n",
      "[問卦] 日本人怎麼不像台灣人愛娶新住民?\n",
      "\n",
      "12/17 tony121010 \n",
      "Re: [新聞] 兩岸緊張 台生赴陸有增無減  \n",
      "\n",
      "12/17 clark2644 \n",
      "[問卦] 去菲律賓吃什麼才是內行\n",
      "\n",
      "12/17 Cassander \n",
      "[新聞]多國紙鈔逃走中 央行扮柯南追查真相\n",
      "\n",
      " 8/21 arsonlolita \n",
      "[公告] 八卦板板規(2019.08.21)\n",
      "\n",
      "12/08 Amybook \n",
      "協尋12/6台中市向上路往精科五路行車記錄器\n",
      "\n",
      "12/12 ianian23 \n",
      "協詢12/12 新北三重大智路與忠孝路口行車記錄器\n",
      "\n",
      "12/09 sam3030178 \n",
      "［協尋］11/15台中市向上路忠勇路口行車記錄器\n",
      "\n",
      "12/02 Bignana \n",
      "[公告] 一劍無悔，十二月置底閒聊文\n",
      "\n"
     ]
    }
   ],
   "source": [
    "for entry in soup.select('.r-ent'):\n",
    "    print(entry.select('.date')[0].text, entry.select('.author')[0].text, entry.select('.title')[0].text)"
   ]
  },
  {
   "cell_type": "code",
   "execution_count": null,
   "metadata": {},
   "outputs": [],
   "source": []
  }
 ],
 "metadata": {
  "kernelspec": {
   "display_name": "Python 3",
   "language": "python",
   "name": "python3"
  },
  "language_info": {
   "codemirror_mode": {
    "name": "ipython",
    "version": 3
   },
   "file_extension": ".py",
   "mimetype": "text/x-python",
   "name": "python",
   "nbconvert_exporter": "python",
   "pygments_lexer": "ipython3",
   "version": "3.7.4"
  }
 },
 "nbformat": 4,
 "nbformat_minor": 2
}
