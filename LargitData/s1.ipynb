{
 "cells": [
  {
   "cell_type": "code",
   "execution_count": 4,
   "metadata": {},
   "outputs": [],
   "source": [
    "import requests"
   ]
  },
  {
   "cell_type": "code",
   "execution_count": 6,
   "metadata": {
    "collapsed": true
   },
   "outputs": [
    {
     "name": "stderr",
     "output_type": "stream",
     "text": [
      "C:\\P1\\Anaconda3\\lib\\site-packages\\urllib3\\connectionpool.py:847: InsecureRequestWarning: Unverified HTTPS request is being made. Adding certificate verification is strongly advised. See: https://urllib3.readthedocs.io/en/latest/advanced-usage.html#ssl-warnings\n",
      "  InsecureRequestWarning)\n",
      "C:\\P1\\Anaconda3\\lib\\site-packages\\urllib3\\connectionpool.py:847: InsecureRequestWarning: Unverified HTTPS request is being made. Adding certificate verification is strongly advised. See: https://urllib3.readthedocs.io/en/latest/advanced-usage.html#ssl-warnings\n",
      "  InsecureRequestWarning)\n",
      "C:\\P1\\Anaconda3\\lib\\site-packages\\urllib3\\connectionpool.py:847: InsecureRequestWarning: Unverified HTTPS request is being made. Adding certificate verification is strongly advised. See: https://urllib3.readthedocs.io/en/latest/advanced-usage.html#ssl-warnings\n",
      "  InsecureRequestWarning)\n"
     ]
    }
   ],
   "source": [
    "rs = requests.session()\n",
    "payload = {\n",
    "'from': '/bbs/gossiping/index.html',\n",
    "'yes': 'yes'\n",
    "}\n",
    "res = rs.post(\"https://www.ptt.cc/ask/over18\", data=payload, verify=False)\n",
    "#res = rs.get(\"https://www.ptt.cc/bbs/gossiping/index.html\", verify=False)\n",
    "res = rs.get(\"https://www.ptt.cc/bbs/food/index.html\", verify=False)"
   ]
  },
  {
   "cell_type": "code",
   "execution_count": 27,
   "metadata": {},
   "outputs": [],
   "source": [
    "from bs4 import BeautifulSoup\n",
    "soup = BeautifulSoup(res.text)"
   ]
  },
  {
   "cell_type": "code",
   "execution_count": 10,
   "metadata": {
    "collapsed": true
   },
   "outputs": [
    {
     "name": "stdout",
     "output_type": "stream",
     "text": [
      "12/19 meiwen1201 \n",
      "[食記] 南投埔里 蘇媽媽湯圓~驚豔的養生甜湯圓\n",
      "\n",
      "12/19 kaufman \n",
      "[請益] 盲人餐廳\n",
      "\n",
      "12/19 larle \n",
      "[食記] 新北三重區。黎記滷肉飯/米糕\n",
      "\n",
      "12/20 elisa48 \n",
      "[廣宣] 台北信義 微風松高B2 At First緣來早午餐\n",
      "\n",
      "12/20 beatfuture \n",
      "[請益] 跟台鐵便當一樣好吃的”豆皮“\n",
      "\n",
      "12/20 Lilyggyy \n",
      "[廣宣] 肉你好燒肉合江店三週年馬拉松式活動\n",
      "\n",
      "12/20 leafphoto \n",
      "[食記] 基隆 七堵ok大腸蚵仔麵線\n",
      "\n",
      "12/20 chirex \n",
      "[食記] [台中西區] 別嗆大叔 (咖哩飯)\n",
      "\n",
      "12/16 Dilbert \n",
      "[公告] Food板 板規 V3.91\n",
      "\n",
      " 9/28 bluefish \n",
      "[公告] 發文請在標題加上地區及提供地址電話。^^\n",
      "\n",
      "10/01 Dilbert \n",
      "[公告] 文章被刪除者請洽精華區的資源回收桶\n",
      "\n",
      " 6/04 Dilbert \n",
      "[公告] 新增板規22：發文禁附延伸閱讀連結\n",
      "\n"
     ]
    }
   ],
   "source": [
    "for entry in soup.select('.r-ent'):\n",
    "    print(entry.select('.date')[0].text, entry.select('.author')[0].text, entry.select('.title')[0].text)"
   ]
  },
  {
   "cell_type": "code",
   "execution_count": 7,
   "metadata": {
    "collapsed": true
   },
   "outputs": [
    {
     "name": "stderr",
     "output_type": "stream",
     "text": [
      "C:\\P1\\Anaconda3\\lib\\site-packages\\urllib3\\connectionpool.py:847: InsecureRequestWarning: Unverified HTTPS request is being made. Adding certificate verification is strongly advised. See: https://urllib3.readthedocs.io/en/latest/advanced-usage.html#ssl-warnings\n",
      "  InsecureRequestWarning)\n"
     ]
    }
   ],
   "source": [
    "#"
   ]
  },
  {
   "cell_type": "code",
   "execution_count": 12,
   "metadata": {},
   "outputs": [],
   "source": [
    "res = requests.get(\"https://www1.oanda.com/currency/historical-rates\")"
   ]
  },
  {
   "cell_type": "code",
   "execution_count": 14,
   "metadata": {},
   "outputs": [],
   "source": [
    "import re"
   ]
  },
  {
   "cell_type": "code",
   "execution_count": 16,
   "metadata": {},
   "outputs": [],
   "source": [
    "m = re.search('(\"data\":\\[\\[.*\\]\\])', res.text)\n",
    "print(m.group(1))"
   ]
  },
  {
   "cell_type": "code",
   "execution_count": 21,
   "metadata": {
    "collapsed": true
   },
   "outputs": [
    {
     "data": {
      "text/plain": [
       "'<!DOCTYPE html>\\n<html lang=\"en\">\\n<head>\\n<meta charset=\\'utf-8\\'>\\n<meta name=\"description\" content=\\'Access historical rates dating back to 1990. CSV download, 38,000+ currency pairs, 25+ Central Bank exchange rates.\\'>\\n<meta name=\"keywords\" content=\\'historical rates,currency conversion,exchange rates,download,currency pair\\'>\\n<title>Historical Currency Converter | OANDA</title>\\n<link rel=\"canonical\" href=\"https://www.oanda.com/fx-for-business/historical-rates\" />\\n<link rel=\"alternate\" href=\"https://www.oanda.com/lang/cns/fx-for-business/historical-rates\" hreflang=\"zh-hans\" />\\n<link rel=\"alternate\" href=\"https://www.oanda.com/lang/de/fx-for-business/historical-rates\" hreflang=\"de\" />\\n<link rel=\"alternate\" href=\"https://www.oanda.com/lang/es/fx-for-business/historical-rates\" hreflang=\"es\" />\\n<link rel=\"alternate\" href=\"https://www.oanda.com/lang/fr/fx-for-business/historical-rates\" hreflang=\"fr\" />\\n<link rel=\"alternate\" href=\"https://www.oanda.com/lang/it/fx-for-business/historical-rates\" hreflang=\"it\" />\\n<link rel=\"alternate\" href=\"https://www.oanda.com/lang/ja/fx-for-business/historical-rates\" hreflang=\"ja\" />\\n<link rel=\"alternate\" href=\"https://www.oanda.com/lang/ko/fx-for-business/historical-rates\" hreflang=\"ko\" />\\n<link rel=\"alternate\" href=\"https://www.oanda.com/lang/pt/fx-for-business/historical-rates\" hreflang=\"pt\" />\\n<link rel=\"alternate\" href=\"https://www.oanda.com/lang/ru/fx-for-business/historical-rates\" hreflang=\"ru\" />\\n<link rel=\"stylesheet\" type=\"text/css\" href=\"/static/sfb/hcc/css/reset-c20daa4256.css\">\\n<link rel=\"stylesheet\" type=\"text/css\" href=\"/static/sfb/hcc/css/lightbox-5bc12971f9.css\">\\n<link rel=\"stylesheet\" type=\"text/css\" href=\"/static/sfb/hcc/css/hcc-d60b15f5d2.css\">\\n<link rel=\"stylesheet\" type=\"text/css\" href=\"/static/sfb/hcc/css/purchase-be1edb89a9.css\">\\n<link rel=\"stylesheet\" type=\"text/css\" media=\"print\" href=\"/static/sfb/hcc/css/print-bdd45c5ac9.css\">\\n<script type=\"text/javascript\" src=\"https://code.jquery.com/jquery-1.11.3.min.js\"></script>\\n<script type=\"text/javascript\" src=\"https://cdnjs.cloudflare.com/ajax/libs/jquery-cookie/1.4.1/jquery.cookie.js\"></script>\\n<script type=\"text/javascript\" src=\"https://www.oanda.com/jslib/joanda.js\"></script>\\n<script type=\"text/javascript\">\\n        window.OANDA = {};\\n        window.OANDA.lang = {};\\n        jQuery(function () {\\n            jQuery.ajaxSetup({cache: false});\\n        });\\n    \\n    </script>\\n<script src=\"https://www.oanda.com/shared/jslib/prototype1.7.js\" type=\"text/javascript\"></script>\\n<script src=\"https://www.oanda.com/shared/jslib/flotr/flotr.js\" type=\"text/javascript\"></script>\\n<script src=\"https://www.oanda.com/shared/jslib/oanda/locale/locales/en.js\" type=\"text/javascript\"></script>\\n<script src=\"https://www.oanda.com/shared/jslib/oanda/locale/Locale.js\" type=\"text/javascript\"></script>\\n<script src=\"/static/sfb/hcc/javascript/lang/en/translations-8bdf8fb784.js\" type=\"text/javascript\" charset=\"UTF-8\"></script>\\n<script src=\"https://www.oanda.com/shared/jslib/oanda/locale/NumberTranslator.js\" type=\"text/javascript\"></script>\\n<script src=\"https://www.oanda.com/shared/jslib/oanda/date/DateFormatter.js\" type=\"text/javascript\"></script>\\n<script src=\"https://www.oanda.com/shared/jslib/oanda/date/Calendar.js\" type=\"text/javascript\"></script>\\n<script src=\"https://www.oanda.com/shared/jslib/oanda/currency/CurrencyFormatter.js\" type=\"text/javascript\"></script>\\n<script src=\"https://www.oanda.com/jslib/currency/historical-rates/CurrencyComboBuilder.js\" type=\"text/javascript\"></script>\\n<script src=\"https://www.oanda.com/jslib/currency/historical-rates/TextComboBuilder.js\" type=\"text/javascript\"></script>\\n<script src=\"https://www.oanda.com/jslib/currency/historical-rates/InterbankComboBuilder.js\" type=\"text/javascript\"></script>\\n<script src=\"https://www.oanda.com/jslib/currency/historical-rates/Controls.js\" type=\"text/javascript\"></script>\\n<script src=\"https://www.oanda.com/jslib/currency/historical-rates/EventHandler.js\" type=\"text/javascript\"></script>\\n<script src=\"https://www.oanda.com/jslib/currency/historical-rates/Print.js\" type=\"text/javascript\"></script>\\n<script src=\"https://www.oanda.com/shared/jslib/oanda/cookies.js\" type=\"text/javascript\"></script>\\n<script src=\"https://www.oanda.com/jslib/currency/historical-rates/CookieManager.js\" type=\"text/javascript\"></script>\\n<script src=\"https://www.oanda.com/jslib/currency/historical-rates/MRUHandler.js\" type=\"text/javascript\"></script>\\n<script src=\"https://www.oanda.com/jslib/wl/feedback/prototype.feedback.js\" type=\"text/javascript\"></script>\\n<script src=\"/static/sfb/hcc/javascript/vendors/placeholders.jquery.min.js\" type=\"text/javascript\"></script>\\n<script src=\"/static/sfb/hcc/javascript/vendors/underscore-min.js\" type=\"text/javascript\"></script>\\n<script src=\"/static/sfb/hcc/javascript/vendors/handlebars.min.js\" type=\"text/javascript\"></script>\\n<script type=\"text/javascript\" src=\"/static/sfb/hcc/javascript/vendors/navigo.min.js\"></script>\\n<script src=\"/static/sfb/hcc/javascript/Config-6c2b501dda.js\" type=\"text/javascript\" charset=\"UTF-8\"></script>\\n<script src=\"/static/sfb/hcc/javascript/LangMenu-5501e6ee91.Config.js\" type=\"text/javascript\" charset=\"UTF-8\"></script>\\n<script src=\"/static/sfb/hcc/javascript/jOanda-884d3434b0.utils.js\" type=\"text/javascript\"></script>\\n<script type=\"text/javascript\" src=\"/static/sfb/hcc/javascript/vendors/list.min.js\"></script>\\n<script type=\"text/javascript\" src=\"/static/sfb/hcc/javascript/Template-1940b3d1f4.js\"></script>\\n<script type=\"text/javascript\" src=\"/static/sfb/hcc/javascript/Notifications-5dd96e3204.js\"></script>\\n<script type=\"text/javascript\" src=\"/static/sfb/hcc/javascript/ModelBase-892d411754.js\"></script>\\n<script type=\"text/javascript\" src=\"/static/sfb/hcc/javascript/ViewModelBase-e03b426969.js\"></script>\\n<script type=\"text/javascript\" src=\"/static/sfb/hcc/javascript/ControllerBase-3cefad0093.js\"></script>\\n<script type=\"text/javascript\">\\n      (function(e,t){var n=e.amplitude||{_q:[],_iq:{}};var r=t.createElement(\"script\")\\n      ;r.type=\"text/javascript\";r.async=true\\n      ;r.src=\"https://cdn.amplitude.com/libs/amplitude-4.1.0-min.gz.js\"\\n      ;r.onload=function(){if(e.amplitude.runQueuedFunctions){\\n      e.amplitude.runQueuedFunctions()}else{\\n      console.log(\"[Amplitude] Error: could not load SDK\")}}\\n      ;var i=t.getElementsByTagName(\"script\")[0];i.parentNode.insertBefore(r,i)\\n      ;function s(e,t){e.prototype[t]=function(){\\n      this._q.push([t].concat(Array.prototype.slice.call(arguments,0)));return this}}\\n      var o=function(){this._q=[];return this}\\n      ;var a=[\"add\",\"append\",\"clearAll\",\"prepend\",\"set\",\"setOnce\",\"unset\"]\\n      ;for(var u=0;u<a.length;u++){s(o,a[u])}n.Identify=o;var c=function(){this._q=[]\\n      ;return this}\\n      ;var l=[\"setProductId\",\"setQuantity\",\"setPrice\",\"setRevenueType\",\"setEventProperties\"]\\n      ;for(var p=0;p<l.length;p++){s(c,l[p])}n.Revenue=c\\n      ;var d=[\"init\",\"logEvent\",\"logRevenue\",\"setUserId\",\"setUserProperties\",\"setOptOut\",\"setVersionName\",\"setDomain\",\"setDeviceId\",\"setGlobalUserProperties\",\"identify\",\"clearUserProperties\",\"setGroup\",\"logRevenueV2\",\"regenerateDeviceId\",\"logEventWithTimestamp\",\"logEventWithGroups\",\"setSessionId\"]\\n      ;function v(e){function t(t){e[t]=function(){\\n      e._q.push([t].concat(Array.prototype.slice.call(arguments,0)))}}\\n      for(var n=0;n<d.length;n++){t(d[n])}}v(n);n.getInstance=function(e){\\n      e=(!e||e.length===0?\"$default_instance\":e).toLowerCase()\\n      ;if(!n._iq.hasOwnProperty(e)){n._iq[e]={_q:[]};v(n._iq[e])}return n._iq[e]}\\n      ;e.amplitude=n})(window,document);\\n    \\n      amplitude.getInstance().init(\"1021d8b0adbc864b56eef39efddad0a7\", {includeReferrer: true});\\n    </script>\\n\\n<script type=\"text/javascript\" src=\"/static/sfb/hcc/javascript/DropList-9951c79a34.js\"></script>\\n<script type=\"text/javascript\" src=\"/static/sfb/hcc/javascript/DropListSearch-0a407c99a8.js\"></script>\\n<script type=\"text/javascript\" src=\"/static/sfb/hcc/javascript/CurrencyPicker-a51b45c8dc.js\"></script>\\n<script type=\"text/javascript\" src=\"/static/sfb/hcc/javascript/vendors/moment-2.18.1.js\"></script>\\n<script type=\"text/javascript\" src=\"/static/sfb/hcc/javascript/vendor-edited/jquery-date-range-picker-93fbb1223f.js\"></script>\\n<script type=\"text/javascript\" src=\"/static/sfb/hcc/javascript/DatePicker-7ab5a02643.js\"></script>\\n<script type=\"text/javascript\" src=\"/static/sfb/hcc/javascript/InterbankRatesPicker-2090e440ae.js\"></script>\\n<script type=\"text/javascript\" src=\"/static/sfb/hcc/javascript/ControlSelect-5d36d0744d.js\"></script>\\n<script type=\"text/javascript\" src=\"/static/sfb/hcc/javascript/SourcePicker-ef0581a09a.js\"></script>\\n<script type=\"text/javascript\" src=\"/static/sfb/hcc/javascript/HistoricalTable-52fa61e759.js\"></script>\\n<script type=\"text/javascript\" src=\"/static/sfb/hcc/javascript/HistoricalGraph-5280a1e984.js\"></script>\\n<script type=\"text/javascript\" src=\"/static/sfb/hcc/javascript/Model-edad210ee2.js\"></script>\\n<script type=\"text/javascript\" src=\"/static/sfb/hcc/javascript/ViewModel-4583968583.js\"></script>\\n<script type=\"text/javascript\" src=\"/static/sfb/hcc/javascript/Controller-423204dc99.js\"></script>\\n<script type=\"text/javascript\" src=\"/static/sfb/hcc/javascript/Router-7c3b729fbf.js\"></script>\\n<script type=\"text/javascript\" src=\"/static/sfb/hcc/javascript/PurchaseController-d483b8631f.js\"></script>\\n<script type=\\'text/javascript\\' src=\\'/static/sfb/hcc/javascript/Purchase-2d16dba236.js\\'></script>\\n<script type=\\'text/javascript\\' src=\\'/static/sfb/hcc/javascript/vendors/jquery.deserialize.min.js\\'></script>\\n<script type=\"text/javascript\" async src=\"https://js.braintreegateway.com/web/3.5.0/js/client.min.js\"></script>\\n<script type=\"text/javascript\" async src=\"https://js.braintreegateway.com/web/3.5.0/js/hosted-fields.js\"></script>\\n\\n<script type=\"text/javascript\" src=\"//service.maxymiser.net/cdn/oanda/js/mmcore.js\"></script>\\n\\n<script type=\"text/javascript\">\\n        setTimeout(function(){\\n            var a=document.createElement(\"script\");\\n            var b=document.getElementsByTagName(\"script\")[0];\\n            a.src=document.location.protocol+\"//script.crazyegg.com/pages/scripts/0028/8860.js?\"+Math.floor(new Date().getTime()/3600000);\\n            a.async=true;\\n            a.type=\"text/javascript\";\\n            b.parentNode.insertBefore(a,b)\\n        }, 1);\\n    </script>\\n</head>\\n<body>\\n\\n<script type=\"text/javascript\">\\nvar axel = Math.random() + \"\";\\nvar a = axel * 10000000000000;\\ndocument.write(\\'<iframe src=\"https://4489469.fls.doubleclick.net/activityi;src=4489469;type=sfbre0;cat=newsf000;u2=[sfb_id];dc_lat=;dc_rdid=;tag_for_child_directed_treatment=;ord=1;num=\\' + a + \\'?\" width=\"1\" height=\"1\" frameborder=\"0\" style=\"display:none\"></iframe>\\');\\n</script>\\n<noscript>\\n<iframe src=\"https://4489469.fls.doubleclick.net/activityi;src=4489469;type=sfbre0;cat=newsf000;u2=[sfb_id];dc_lat=;dc_rdid=;tag_for_child_directed_treatment=;ord=1;num=1?\" width=\"1\" height=\"1\" frameborder=\"0\" style=\"display:none\"></iframe>\\n</noscript>\\n\\n<div id=\"hcc\">\\n<div class=\"nav\">\\n<div class=\"primary backgroundOandaDark\">\\n<div class=\"home\">\\n<a href=\"https://www.oanda.com/fx-for-business/\" target=\"_blank\" onclick=\"jOanda.utils.trackLink(this);\" data-element-text=\"OANDA FX for Business\" data-element-location=\"header\">\\n<img alt=\"OANDA FX for Business\" src=\"/static/sfb/hcc/images/OANDA_SFBlogo.svg\" width=\"154\" height=\"40\">\\n</a>\\n</div>\\n<div id=\"accountControl\" class=\"hcc-nav-primary-actions\"></div>\\n<ul class=\"links\">\\n<li class=\"active\">\\n<a href=\"/fx-for-business/historical-rates\">\\n<div class=\"image\">\\n<img src=\"/static/sfb/hcc/images/Historical.png\">\\n</div>\\n<div class=\"label\">\\n<h1>Historical Exchange Rates</h1>\\n</div>\\n</a>\\n</li>\\n<li class=\"fontColorWhite\">\\n<a id=\"apilink\" href=\"/fx-for-business/exchange-rates-api\" onclick=\"return jOanda.utils.trackLink(this);\" data-element-text=\"Exchange Rates API\" data-element-location=\"header\" target=\"_blank\">\\n<div class=\"image\">\\n<img src=\"/static/sfb/hcc/images/API.png\">\\n</div>\\n<div class=\"label\">\\nExchange Rates API\\n</div>\\n</a>\\n</li>\\n<li class=\"fontColorWhite\">\\n<a id=\"fxtransferlink\" href=\"/fx-for-business/fx-payments\" onclick=\"jOanda.utils.trackLink(this);\" data-element-text=\"Corporate FX Payments\" data-element-location=\"header\" target=\"_blank\">\\n<div class=\"image\">\\n<img style=\"height: 26px; width: 26px;\" src=\"/static/sfb/hcc/images/Payments.png\">\\n</div>\\n<div class=\"label\">\\nCorporate FX Payments\\n</div>\\n</a>\\n</li>\\n<li class=\"fontColorWhite\">\\n<a id=\"fxnewslink\" href=\"https://blog.oanda.com\" onclick=\"jOanda.utils.trackLink(this);\" data-element-text=\"FX News\" data-element-location=\"header\" target=\"_blank\">\\n<div class=\"image\">\\n<img src=\"/static/sfb/hcc/images/Blog.png\">\\n</div>\\n<div class=\"label\">\\nFX News\\n</div>\\n</a>\\n</li>\\n<li class=\"fontColorWhite\">\\n<a id=\"supportlink\" href=\"https://oanda.secure.force.com/AnswersSupport?urlName=Historical-Exchange-Rates-FAQ-s&language=en_US\" onclick=\"jOanda.utils.trackLink(this);\" data-element-text=\"Support\" data-element-location=\"header\" target=\"_blank\">\\n<div class=\"image\">\\n<img src=\"/static/sfb/hcc/images/Support.png\">\\n</div>\\n<div class=\"label\">\\nSupport\\n</div>\\n</a>\\n</li>\\n</ul>\\n<script type=\"text/javascript\">\\n                jOanda.utils.resize_header();\\n            </script>\\n<div class=\"clearfix\"></div>\\n</div>\\n<div class=\"bannerNotificationArea\">\\n<ul></ul>\\n</div>\\n</div>\\n<div class=\"body\">\\n<div class=\"controls\">\\n<div class=\"primary\">\\n<ul>\\n<li style=\"min-width: 350px; width: 34%;\">\\n<div id=\"datepicker-container\" class=\"control-select\"></div>\\n</li>\\n<li style=\"min-width: 200px; width: 19%;\">\\n</li>\\n<li style=\"min-width: 330px; width: 32%;\">\\n</li>\\n<li style=\"min-width: 140px; width: 13%;\">\\n</li>\\n</ul>\\n</div>\\n<div class=\"secondary\">\\n<div class=\"container have\">\\n<div class=\"label\"><strong>Currency I have:</strong></div>\\n<div class=\"have-select\">\\n<div id=\"havePicker\" class=\"select-container\"></div>\\n</div>\\n</div>\\n<div class=\"container want\">\\n<div class=\"label\"><strong>Currency I want:</strong></div>\\n<div class=\"currency-container\">\\n<div id=\"hccAddCurrencyButton\" class=\"plusButton\"></div>\\n</div>\\n</div>\\n</div>\\n<div class=\"tertiary\">\\n<div class=\"tri\">\\n<div class=\"left\">\\n<div class=\"widgetToggle\">\\n<div class=\"button graph active\"></div>\\n<div class=\"button table\"></div>\\n</div>\\n<div class=\"interbank-dropdown-container\">\\n<b>Interbank +/-</b>\\n<div id=\"interbankPicker\"></div>\\n</div>\\n</div>\\n<div class=\"right\">\\n<button id=\"download-btn\" class=\"download backgroundOandaBlue clickable disabled\" data-tooltip-left-offset=\"-280\" data-tooltip-top-offset=\"-3\" data-tooltip-extra-padding-right=\"40\" data-element-text=\"Download\" data-element-location=\"Download button\" onclick=\"document.fire(config.EVENTS.clickDownload)\">\\nDownload\\n</button>\\n</div>\\n<div id=\"bodyTriCentre\" class=\"centre\"></div>\\n</div>\\n</div>\\n</div>\\n<div id=\"widget-loader\"></div>\\n<div class=\"widget\"></div>\\n<div class=\"hcc-footer\">\\n<h2>Features and Functionality</h2>\\n<p>The Historical Currency Converter is a simple way to access up to 25 years of historical exchange rates for 200+ currencies, metals, and cryptocurrencies. OANDA Rates&reg; cover 38,000 FX currency pairs, and are easily downloadable into an Excel ready, CSV formatted file.</p>\\n<p>This tool is ideal for auditors, CPAs, tax professionals, and anyone who needs <a target=\\'_blank\\' href=\\'https://www.oanda.com/fx-for-business/exchange-rates-api/accuracy\\' onclick=\\'jOanda.utils.trackLink(this)\\' data-element-text=\\'accurate and authoritative foreign exchange data\\' data-element-location=\\'footer\\'>accurate and authoritative foreign exchange data</a> for spot checking, analysis, and reporting. Currency data can be displayed in a graph or table view with up to 10 currencies at a time.</p>\\n<p>Our <a target=\\'_blank\\' href=\\'https://www.oanda.com/fx-for-business/about-historical-currency-converter\\' onclick=\\'jOanda.utils.trackLink(this)\\' data-element-text=\\'Historical Currency Converter\\' data-element-location=\\'footer\\'>Historical Currency Converter</a> is an easy to use, cloud-based solution and requires no installation, while being accessible from anywhere.</p>\\n <p>OANDA Rates&reg; are calculated daily (Monday through Friday) and represent the previous 24 hour period aligned to UTC-midnight (8:00 PM Eastern Time). Bid, ask, and midpoint rates for the day are published and available no later than 10:00 PM Eastern Time.</p>\\n<h2>How to get Historical FX Data</h2>\\n<ol>\\n<li>Pick your base currency and the currency (or currencies) you want converted.</li>\\n<li>Choose your timeframe (daily, weekly, monthly, quarterly, annually or custom), your rate source (<a target=\\'_blank\\' href=\\'https://www.oanda.com/fx-for-business/exchange-rates-api/daily-average-exchange-rates\\' onclick=\\'jOanda.utils.trackLink(this)\\' data-element-text=\\'OANDA Rates\\' data-element-location=\\'footer\\'>OANDA Rates&reg;</a>, or 25 Central Bank exchange rates), and your price (bid, mid, or ask).</li>\\n<li>Download the historic data to a CSV format for easy use with Excel or Google Sheets.</li>\\n</ol>\\n<h2>Tips and Tricks</h2>\\n<ol>\\n<li>Central Bank exchange rates are available with a <a href=\\'/fx-for-business/historical-rates/plans\\' data-element-text=\\'Pro Plan\\' data-element-location=\\'footer\\' onclick=\\'window.scrollTo(0, 0)\\' data-navigo>Pro Plan</a>.</li>\\n<li>Enterprise plans are also available at a discount. Your entire team can access the gold standard in historical exchange rates!</li>\\n<li>This cloud-based app requires no installation and can be accessed from anywhere.</li>\\n<li>Automate your exchange rate conversion with our <a target=\\'_blank\\' href=\\'https://www.oanda.com/fx-for-business/exchange-rates-api\\' onclick=\\'jOanda.utils.trackLink(this)\\' data-element-text=\\'Exchange Rates API\\' data-element-location=\\'footer\\'>Exchange Rates API</a>. Import FX rates right into your ERP or TMS!</li>\\n</ol>\\n<ul class=\"footnotes\">\\n<li>*Currencies marked with an asterisk (*) are obsolete or no longer available with current rates.</li>\\n</ul>\\n</div>\\n</div>\\n</div>\\n<div id=\"lightbox-background\" style=\"display: none;\">\\n<div id=\"lightbox\"></div>\\n</div>\\n<script type=\"text/javascript\">\\n\\n        var formatter = new OANDA.CurrencyFormatter(locale);\\n        formatter.DEFAULT_DECIMALS = 4;\\n\\n        endDate = new Date();\\n        startDate = new Date();\\n        startDate.setDate(endDate.getDate()-30);\\n        // earliest possible rate date accessible from HCC\\n        earliestRateDate = new Date(\\'1990/01/01\\');\\n\\n        params = {\\n            \\'source\\': \\'OANDA\\',\\n            \\'formatter\\': formatter,\\n            \\'maxCurrencies\\': 10,\\n            \\'minCurrencies\\': 5,\\n\\n            // lower case\\n            \\'quoteCurrencyColors\\': [\"#0000e0\", \"#008000\", \"#e00000\", \"#ca00d5\", \"#f6921e\", \"#0094c1\", \"#659900\", \"#ff1b9f\", \"#5f00aa\", \"#262261\", \"#603813\", \"#9b0013\"],\\n            \\'locale\\': locale,\\n            \\'baseCurrency\\' : \"USD\",\\n            // define all base currencies\\n            // undefined parameter would not be posted by jQuery in ajax call resulting disorder of rates results\\n            \\'quoteCurrencies\\' : [\"EUR\", \"\", \"\", \"\", \"\", \"\", \"\", \"\", \"\", \"\"],\\n            \\'defaultQuoteCurrency\\' : \"EUR\",\\n            \\'startDate\\': startDate,\\n            \\'endDate\\': endDate,\\n            \\'earliestRateDate\\': earliestRateDate,\\n            \\'period\\' : \"daily\",\\n            \\'price\\' : \"bid\",\\n            \\'view\\': \"graph\",\\n            \\'sources\\': [{value:\"OANDA\", display: locale.strings[locale.language].fxt, isDefault: true}],\\n\\n            \\'prices\\': [{value:\"bid\", display: locale.strings[locale.language].bid, isDefault: true},\\n                       {value:\"ask\", display: locale.strings[locale.language].ask},\\n                       {value:\"mid\", display: locale.strings[locale.language].mid},],\\n            \\'frequencies\\': [{value:\"daily\", display: locale.strings[locale.language].daily, isDefault: true, feature: \"base\"},\\n                            {value:\"weekly\", display: locale.strings[locale.language].weekly, feature: \"base\"},\\n                            {value:\"monthly\", display: locale.strings[locale.language].monthly, feature: \"base\"},\\n                            {value:\"quarterly\", display:locale.strings[locale.language].quarterly, feature: \"premium\"},\\n                            {value:\"annual\", display:locale.strings[locale.language].annual, feature: \"premium\"}],\\n        };\\n\\n        jQuery(function() {\\n            window.controller = new jOanda.hcc2.Controller(params);\\n            controller.start();\\n            viewModel = controller.viewModel;\\n            model = controller.model;\\n            utils = jOanda.utils;\\n        });\\n\\n</script>\\n<script>\\n        (function(i,s,o,g,r,a,m){i[\\'GoogleAnalyticsObject\\']=r;i[r]=i[r]||function(){\\n        (i[r].q=i[r].q||[]).push(arguments)},i[r].l=1*new Date();a=s.createElement(o),\\n        m=s.getElementsByTagName(o)[0];a.async=1;a.src=g;m.parentNode.insertBefore(a,m)\\n        })(window,document,\\'script\\',\\'//www.google-analytics.com/analytics.js\\',\\'ga\\');\\n\\n        ga(\\'create\\', \\'UA-43421511-8\\', \\'auto\\');\\n        ga(\\'send\\', \\'pageview\\');\\n\\n</script>\\n</body>\\n</html>\\n'"
      ]
     },
     "execution_count": 21,
     "metadata": {},
     "output_type": "execute_result"
    }
   ],
   "source": []
  },
  {
   "cell_type": "code",
   "execution_count": null,
   "metadata": {},
   "outputs": [],
   "source": []
  }
 ],
 "metadata": {
  "kernelspec": {
   "display_name": "Python 3",
   "language": "python",
   "name": "python3"
  },
  "language_info": {
   "codemirror_mode": {
    "name": "ipython",
    "version": 3
   },
   "file_extension": ".py",
   "mimetype": "text/x-python",
   "name": "python",
   "nbconvert_exporter": "python",
   "pygments_lexer": "ipython3",
   "version": "3.7.4"
  }
 },
 "nbformat": 4,
 "nbformat_minor": 2
}
